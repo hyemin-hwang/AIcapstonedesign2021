{
  "nbformat": 4,
  "nbformat_minor": 0,
  "metadata": {
    "colab": {
      "name": "text.ipynb",
      "provenance": [],
      "collapsed_sections": [],
      "toc_visible": true
    },
    "kernelspec": {
      "name": "python3",
      "display_name": "Python 3"
    },
    "language_info": {
      "name": "python"
    }
  },
  "cells": [
    {
      "cell_type": "code",
      "metadata": {
        "colab": {
          "base_uri": "https://localhost:8080/"
        },
        "id": "Te0yHZsg2qFd",
        "outputId": "ad63c6e5-c3f8-4096-fd97-e1e66160fc50"
      },
      "source": [
        "from google.colab import drive\n",
        "drive.mount('/content/drive')"
      ],
      "execution_count": null,
      "outputs": [
        {
          "output_type": "stream",
          "text": [
            "Drive already mounted at /content/drive; to attempt to forcibly remount, call drive.mount(\"/content/drive\", force_remount=True).\n"
          ],
          "name": "stdout"
        }
      ]
    },
    {
      "cell_type": "code",
      "metadata": {
        "colab": {
          "base_uri": "https://localhost:8080/"
        },
        "id": "zF9xryj3w5Eb",
        "outputId": "df28e38a-8728-4119-8330-8807c60c0541"
      },
      "source": [
        "!ls"
      ],
      "execution_count": null,
      "outputs": [
        {
          "output_type": "stream",
          "text": [
            "drive  sample_data\n"
          ],
          "name": "stdout"
        }
      ]
    },
    {
      "cell_type": "code",
      "metadata": {
        "colab": {
          "base_uri": "https://localhost:8080/"
        },
        "id": "8kBtt4vXtYn3",
        "outputId": "d34ae66c-1dd3-4fa9-bbb9-140e622cd169"
      },
      "source": [
        "import glob, os\n",
        "\n",
        "__file__ = 'text.py'\n",
        "\n",
        "# Current directory\n",
        "current_dir = os.path.dirname(os.path.abspath(__file__))\n",
        "\n",
        "print(current_dir)\n",
        "\n",
        "current_dir = '/content/drive/MyDrive/yolov3/images/Training Data/dog/pp'\n",
        "\n",
        "# Create and/or truncate train.txt and test.txt\n",
        "file_train = open('/content/drive/MyDrive/yolov3/aug_pp.txt', 'w+')\n",
        "\n",
        "# Populate train.txt\n",
        "for pathAndFilename in glob.iglob(os.path.join(current_dir, \"*.jpg\")):\n",
        "    title, ext = os.path.splitext(os.path.basename(pathAndFilename))\n",
        "    file_train.write(current_dir + \"/\" + title + '.jpg' + \"\\n\")\n",
        "\n",
        "file_train.close()"
      ],
      "execution_count": null,
      "outputs": [
        {
          "output_type": "stream",
          "text": [
            "/content\n"
          ],
          "name": "stdout"
        }
      ]
    },
    {
      "cell_type": "code",
      "metadata": {
        "colab": {
          "base_uri": "https://localhost:8080/"
        },
        "id": "cHmoUVINno-E",
        "outputId": "278e5081-0545-4f2e-9bb3-d709dfbef266"
      },
      "source": [
        "!ls"
      ],
      "execution_count": null,
      "outputs": [
        {
          "output_type": "stream",
          "text": [
            "drive  sample_data\n"
          ],
          "name": "stdout"
        }
      ]
    }
  ]
}