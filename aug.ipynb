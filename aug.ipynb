{
  "nbformat": 4,
  "nbformat_minor": 0,
  "metadata": {
    "colab": {
      "name": "aug.ipynb",
      "provenance": [],
      "collapsed_sections": []
    },
    "kernelspec": {
      "name": "python3",
      "display_name": "Python 3"
    },
    "language_info": {
      "name": "python"
    },
    "accelerator": "GPU"
  },
  "cells": [
    {
      "cell_type": "code",
      "metadata": {
        "colab": {
          "base_uri": "https://localhost:8080/"
        },
        "id": "cYRUYyaV4YXs",
        "outputId": "b9155a09-4871-4299-ffa5-f70dccf844a9"
      },
      "source": [
        "from google.colab import drive\n",
        "drive.mount('/content/drive')"
      ],
      "execution_count": 1,
      "outputs": [
        {
          "output_type": "stream",
          "text": [
            "Mounted at /content/drive\n"
          ],
          "name": "stdout"
        }
      ]
    },
    {
      "cell_type": "code",
      "metadata": {
        "id": "g-ipPYzatxgC",
        "colab": {
          "base_uri": "https://localhost:8080/"
        },
        "outputId": "4261d06a-89f6-4713-d634-adf156272422"
      },
      "source": [
        "!ls"
      ],
      "execution_count": 2,
      "outputs": [
        {
          "output_type": "stream",
          "text": [
            "drive  sample_data\n"
          ],
          "name": "stdout"
        }
      ]
    },
    {
      "cell_type": "code",
      "metadata": {
        "id": "mOePjDE-NbBR"
      },
      "source": [
        "from numpy import expand_dims\n",
        "from keras.preprocessing.image import load_img\n",
        "from keras.preprocessing.image import img_to_array\n",
        "from keras.preprocessing.image import ImageDataGenerator\n",
        "from matplotlib import pyplot"
      ],
      "execution_count": 3,
      "outputs": []
    },
    {
      "cell_type": "code",
      "metadata": {
        "id": "L9Cl4liP6ejf",
        "colab": {
          "base_uri": "https://localhost:8080/"
        },
        "outputId": "911da8ab-5cf2-41c8-d743-98932db5a9c9"
      },
      "source": [
        "import glob, os\n",
        "\n",
        "file_train = open('/content/drive/MyDrive/yolov3/aug_mi.txt', 'r')\n",
        "#path_list = file_train.readlines()\n",
        "path_list=[]\n",
        "line = None\n",
        "while line != '':\n",
        "  line = file_train.readline()\n",
        "  path_list.append(line.strip('\\n'))    # 파일에서 읽어온 문자열에서 \\n 삭제하여 출력\n",
        "\n",
        "path_list.pop()\n",
        "print(\"삭제확인\")\n",
        "print(path_list)\n",
        "print(len(path_list))"
      ],
      "execution_count": 4,
      "outputs": [
        {
          "output_type": "stream",
          "text": [
            "삭제확인\n",
            "['/content/drive/MyDrive/yolov3/images/Training Data/dog/mi/mi_01_crop_0.jpg', '/content/drive/MyDrive/yolov3/images/Training Data/dog/mi/mi_03_crop_0.jpg', '/content/drive/MyDrive/yolov3/images/Training Data/dog/mi/mi_04_crop_0.jpg', '/content/drive/MyDrive/yolov3/images/Training Data/dog/mi/mi_05_crop_0.jpg', '/content/drive/MyDrive/yolov3/images/Training Data/dog/mi/mi_06_crop_0.jpg', '/content/drive/MyDrive/yolov3/images/Training Data/dog/mi/mi_08_crop_0.jpg', '/content/drive/MyDrive/yolov3/images/Training Data/dog/mi/mi_09_crop_0.jpg', '/content/drive/MyDrive/yolov3/images/Training Data/dog/mi/mi_10_crop_0.jpg', '/content/drive/MyDrive/yolov3/images/Training Data/dog/mi/mi_11_crop_0.jpg', '/content/drive/MyDrive/yolov3/images/Training Data/dog/mi/mi_12_crop_0.jpg', '/content/drive/MyDrive/yolov3/images/Training Data/dog/mi/mi_13_crop_0.jpg', '/content/drive/MyDrive/yolov3/images/Training Data/dog/mi/mi_14_crop_1.jpg', '/content/drive/MyDrive/yolov3/images/Training Data/dog/mi/mi_15_crop_0.jpg', '/content/drive/MyDrive/yolov3/images/Training Data/dog/mi/mi_15_crop_1.jpg', '/content/drive/MyDrive/yolov3/images/Training Data/dog/mi/mi_15_crop_2.jpg', '/content/drive/MyDrive/yolov3/images/Training Data/dog/mi/mi_16_crop_0.jpg', '/content/drive/MyDrive/yolov3/images/Training Data/dog/mi/mi_16_crop_1.jpg', '/content/drive/MyDrive/yolov3/images/Training Data/dog/mi/mi_16_crop_2.jpg', '/content/drive/MyDrive/yolov3/images/Training Data/dog/mi/mi_17_crop_0.jpg', '/content/drive/MyDrive/yolov3/images/Training Data/dog/mi/mi_17_crop_1.jpg', '/content/drive/MyDrive/yolov3/images/Training Data/dog/mi/mi_17_crop_2.jpg', '/content/drive/MyDrive/yolov3/images/Training Data/dog/mi/mi_19_crop_0.jpg', '/content/drive/MyDrive/yolov3/images/Training Data/dog/mi/mi_19_crop_1.jpg', '/content/drive/MyDrive/yolov3/images/Training Data/dog/mi/mi_19_crop_2.jpg', '/content/drive/MyDrive/yolov3/images/Training Data/dog/mi/mi_20_crop_0.jpg', '/content/drive/MyDrive/yolov3/images/Training Data/dog/mi/mi_21_crop_0.jpg']\n",
            "26\n"
          ],
          "name": "stdout"
        }
      ]
    },
    {
      "cell_type": "code",
      "metadata": {
        "id": "pADueQC7jJO3"
      },
      "source": [
        "def plot_augmentation(image_path,prefix,args):\n",
        "\t# load the image\n",
        "\timg = load_img(image_path)\n",
        "\t# convert to numpy array\n",
        "\tdata = img_to_array(img)\n",
        "\t# expand dimension to one sample\n",
        "\tsamples = expand_dims(data, 0)    \n",
        "\t# create image data augmentation generator\n",
        "\tdatagen = ImageDataGenerator(**args)\n",
        "\n",
        "\t# prepare iterator\n",
        "\tit = datagen.flow(samples, batch_size=1, save_to_dir='/content/drive/MyDrive/yolov3/mi_pp/mi', save_prefix=prefix, save_format='jpg')\n",
        "\t# generate samples and plot\n",
        "\tfor i in range(3):\n",
        "\t\t# define subplot\n",
        "\t\tpyplot.subplot(330 + 1 + i)\n",
        "\t\t# resize image\n",
        "\t\tpyplot.rcParams[\"figure.figsize\"] = (15,15)\n",
        "\t\t# generate batch of images\n",
        "\t\tbatch = it.next()\n",
        "\t\t# convert to unsigned integers for viewing\n",
        "\t\timage = batch[0].astype('uint8')\n",
        "\t\t# plot raw pixel data\n",
        "\t\t# pyplot.imshow(image)   #run if you want to see the augmented image\n",
        "\t# show the figure'\n",
        "\t# pyplot.show()            #run if you want to see the augmented image\n",
        " \n",
        "\n",
        " # /content/drive/MyDrive/yolov3/aug_images"
      ],
      "execution_count": 5,
      "outputs": []
    },
    {
      "cell_type": "code",
      "metadata": {
        "colab": {
          "base_uri": "https://localhost:8080/",
          "height": 1000
        },
        "id": "eRLHPJoYEAlw",
        "outputId": "11673021-042c-4c8f-9282-9d88e3aa657d"
      },
      "source": [
        "i=0\n",
        "for img_path in path_list:\n",
        "  print(img_path)\n",
        "  file_name=os.path.basename(img_path)\n",
        "  prefix = (file_name.split('.')[0]).format(i)\n",
        "  print(prefix)              #augmented될 이미지 파일 이름 출력(.jpg 확장자 제외)\n",
        "  # width_shift_range: Float, 1-D array-like or int\n",
        "  # float: fraction of total width, if < 1, or pixels if >= 1.\n",
        "  # 1-D array-like: random elements from the array.\n",
        "  # int: integer number of pixels from interval  (-width_shift_range, +width_shift_range)\n",
        "  # With width_shift_range=2 possible values are integers [-1, 0, +1], \n",
        "  # same as with width_shift_range=[-1, 0, +1], while with width_shift_range=1.0 \n",
        "  # possible values are floats in the interval [-1.0, +1.0).\n",
        "  plot_augmentation(img_path,prefix,dict(width_shift_range=[-100,100]))\n",
        "\n",
        "  # height_shift_range: Float, 1-D array-like or int\n",
        "  # float: fraction of total height, if < 1, or pixels if >= 1.\n",
        "  # 1-D array-like: random elements from the array.\n",
        "  # int: integer number of pixels from interval  (-height_shift_range, +height_shift_range)\n",
        "  # With height_shift_range=2 possible values are integers [-1, 0, +1], same as with \n",
        "  # height_shift_range=[-1, 0, +1], while with height_shift_range=1.0 possible values are \n",
        "  # floats in the interval [-1.0, +1.0).\n",
        "  plot_augmentation(img_path,prefix,dict(height_shift_range=0.5))\n",
        "\n",
        "  # vertical_flip: Boolean. Randomly flip inputs vertically.\n",
        "  plot_augmentation(img_path,prefix,dict(vertical_flip=True))\n",
        "\n",
        "  # rotation_range: Int. Degree range for random rotations.\n",
        "  plot_augmentation(img_path,prefix,dict(rotation_range=360))\n",
        "\n",
        "  # Values less than 1.0 darken the image, e.g. [0.5, 1.0], \n",
        "  # whereas values larger than 1.0 brighten the image, \n",
        "  # e.g. [1.0, 1.5], where 1.0 has no effect on brightness.\n",
        "  plot_augmentation(img_path,prefix,dict(brightness_range=[0.5,1.5]))\n",
        "\n",
        "  # zoom_range: Float or [lower, upper]. Range for random zoom. \n",
        "  # If a float, [lower, upper] = [1-zoom_range, 1+zoom_range].\n",
        "  plot_augmentation(img_path,prefix,dict(zoom_range=[0.5,1.5]))\n",
        "\n",
        "  # brightness_range: Tuple or list of two floats. Range for picking a brightness shift \n",
        "  # value from.\n",
        "  plot_augmentation(img_path,prefix,dict(brightness_range=[0.5,1]))\n",
        "\n",
        "  # shear_range: Float. Shear Intensity (Shear angle in counter-clockwise direction in degrees)\n",
        "  plot_augmentation(img_path,prefix,dict(shear_range=45)) \n",
        "\n",
        "  i+=1\n",
        "\n",
        "file_train.close()"
      ],
      "execution_count": 6,
      "outputs": [
        {
          "output_type": "stream",
          "text": [
            "/content/drive/MyDrive/yolov3/images/Training Data/dog/mi/mi_01_crop_0.jpg\n",
            "mi_01_crop_0\n"
          ],
          "name": "stdout"
        },
        {
          "output_type": "stream",
          "text": [
            "/usr/local/lib/python3.7/dist-packages/ipykernel_launcher.py:16: MatplotlibDeprecationWarning: Adding an axes using the same arguments as a previous axes currently reuses the earlier instance.  In a future version, a new instance will always be created and returned.  Meanwhile, this warning can be suppressed, and the future behavior ensured, by passing a unique label to each axes instance.\n",
            "  app.launch_new_instance()\n"
          ],
          "name": "stderr"
        },
        {
          "output_type": "stream",
          "text": [
            "/content/drive/MyDrive/yolov3/images/Training Data/dog/mi/mi_03_crop_0.jpg\n",
            "mi_03_crop_0\n",
            "/content/drive/MyDrive/yolov3/images/Training Data/dog/mi/mi_04_crop_0.jpg\n",
            "mi_04_crop_0\n",
            "/content/drive/MyDrive/yolov3/images/Training Data/dog/mi/mi_05_crop_0.jpg\n",
            "mi_05_crop_0\n",
            "/content/drive/MyDrive/yolov3/images/Training Data/dog/mi/mi_06_crop_0.jpg\n",
            "mi_06_crop_0\n",
            "/content/drive/MyDrive/yolov3/images/Training Data/dog/mi/mi_08_crop_0.jpg\n",
            "mi_08_crop_0\n",
            "/content/drive/MyDrive/yolov3/images/Training Data/dog/mi/mi_09_crop_0.jpg\n",
            "mi_09_crop_0\n",
            "/content/drive/MyDrive/yolov3/images/Training Data/dog/mi/mi_10_crop_0.jpg\n",
            "mi_10_crop_0\n",
            "/content/drive/MyDrive/yolov3/images/Training Data/dog/mi/mi_11_crop_0.jpg\n",
            "mi_11_crop_0\n",
            "/content/drive/MyDrive/yolov3/images/Training Data/dog/mi/mi_12_crop_0.jpg\n",
            "mi_12_crop_0\n",
            "/content/drive/MyDrive/yolov3/images/Training Data/dog/mi/mi_13_crop_0.jpg\n",
            "mi_13_crop_0\n",
            "/content/drive/MyDrive/yolov3/images/Training Data/dog/mi/mi_14_crop_1.jpg\n",
            "mi_14_crop_1\n",
            "/content/drive/MyDrive/yolov3/images/Training Data/dog/mi/mi_15_crop_0.jpg\n",
            "mi_15_crop_0\n",
            "/content/drive/MyDrive/yolov3/images/Training Data/dog/mi/mi_15_crop_1.jpg\n",
            "mi_15_crop_1\n",
            "/content/drive/MyDrive/yolov3/images/Training Data/dog/mi/mi_15_crop_2.jpg\n",
            "mi_15_crop_2\n",
            "/content/drive/MyDrive/yolov3/images/Training Data/dog/mi/mi_16_crop_0.jpg\n",
            "mi_16_crop_0\n",
            "/content/drive/MyDrive/yolov3/images/Training Data/dog/mi/mi_16_crop_1.jpg\n",
            "mi_16_crop_1\n",
            "/content/drive/MyDrive/yolov3/images/Training Data/dog/mi/mi_16_crop_2.jpg\n",
            "mi_16_crop_2\n",
            "/content/drive/MyDrive/yolov3/images/Training Data/dog/mi/mi_17_crop_0.jpg\n",
            "mi_17_crop_0\n",
            "/content/drive/MyDrive/yolov3/images/Training Data/dog/mi/mi_17_crop_1.jpg\n",
            "mi_17_crop_1\n",
            "/content/drive/MyDrive/yolov3/images/Training Data/dog/mi/mi_17_crop_2.jpg\n",
            "mi_17_crop_2\n",
            "/content/drive/MyDrive/yolov3/images/Training Data/dog/mi/mi_19_crop_0.jpg\n",
            "mi_19_crop_0\n",
            "/content/drive/MyDrive/yolov3/images/Training Data/dog/mi/mi_19_crop_1.jpg\n",
            "mi_19_crop_1\n",
            "/content/drive/MyDrive/yolov3/images/Training Data/dog/mi/mi_19_crop_2.jpg\n",
            "mi_19_crop_2\n",
            "/content/drive/MyDrive/yolov3/images/Training Data/dog/mi/mi_20_crop_0.jpg\n",
            "mi_20_crop_0\n",
            "/content/drive/MyDrive/yolov3/images/Training Data/dog/mi/mi_21_crop_0.jpg\n",
            "mi_21_crop_0\n"
          ],
          "name": "stdout"
        },
        {
          "output_type": "display_data",
          "data": {
            "image/png": "[encoded data removed]",
            "text/plain": [
              "<Figure size 432x288 with 3 Axes>"
            ]
          },
          "metadata": {
            "tags": [],
            "needs_background": "light"
          }
        }
      ]
    }
  ]
}